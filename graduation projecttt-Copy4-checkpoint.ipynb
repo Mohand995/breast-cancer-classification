{
 "cells": [
  {
   "cell_type": "code",
   "execution_count": 1,
   "metadata": {},
   "outputs": [],
   "source": [
    "import pandas as pd\n",
    "import numpy as np\n",
    "from sklearn.feature_selection import RFECV \n",
    "from sklearn.ensemble import RandomForestClassifier\n",
    "from sklearn.svm import SVC \n",
    "import seaborn as sns\n",
    "import matplotlib.pyplot as plt\n",
    "import math\n",
    "from sklearn.neighbors import KNeighborsClassifier\n",
    "from sklearn.metrics import accuracy_score"
   ]
  },
  {
   "cell_type": "markdown",
   "metadata": {},
   "source": [
    "# Read data"
   ]
  },
  {
   "cell_type": "code",
   "execution_count": 2,
   "metadata": {},
   "outputs": [],
   "source": [
    "data=df = pd.read_excel (r'F:\\gradiation project\\data2\\all2.xlsx')"
   ]
  },
  {
   "cell_type": "code",
   "execution_count": 3,
   "metadata": {},
   "outputs": [
    {
     "name": "stdout",
     "output_type": "stream",
     "text": [
      "<class 'pandas.core.frame.DataFrame'>\n",
      "RangeIndex: 173 entries, 0 to 172\n",
      "Data columns (total 17 columns):\n",
      " #   Column          Non-Null Count  Dtype  \n",
      "---  ------          --------------  -----  \n",
      " 0   corr1           173 non-null    float64\n",
      " 1   corr2           173 non-null    float64\n",
      " 2   energ_1         173 non-null    float64\n",
      " 3   energ_2         173 non-null    float64\n",
      " 4   homom_1         173 non-null    float64\n",
      " 5   homom_2         173 non-null    float64\n",
      " 6   INVDIFM         173 non-null    float64\n",
      " 7   INVDIFM.1       173 non-null    float64\n",
      " 8   Dissimillarity  173 non-null    float64\n",
      " 9   Dissimilarity2  173 non-null    float64\n",
      " 10  inf1h_1         173 non-null    float64\n",
      " 11  inf1h_2         173 non-null    float64\n",
      " 12  inf2h_1         173 non-null    float64\n",
      " 13  inf2h_2         173 non-null    float64\n",
      " 14  maxpr_1         173 non-null    float64\n",
      " 15  maxpr_2         173 non-null    float64\n",
      " 16  out             173 non-null    int64  \n",
      "dtypes: float64(16), int64(1)\n",
      "memory usage: 23.1 KB\n"
     ]
    }
   ],
   "source": [
    "data.info()"
   ]
  },
  {
   "cell_type": "code",
   "execution_count": 4,
   "metadata": {},
   "outputs": [
    {
     "data": {
      "text/html": [
       "<div>\n",
       "<style scoped>\n",
       "    .dataframe tbody tr th:only-of-type {\n",
       "        vertical-align: middle;\n",
       "    }\n",
       "\n",
       "    .dataframe tbody tr th {\n",
       "        vertical-align: top;\n",
       "    }\n",
       "\n",
       "    .dataframe thead th {\n",
       "        text-align: right;\n",
       "    }\n",
       "</style>\n",
       "<table border=\"1\" class=\"dataframe\">\n",
       "  <thead>\n",
       "    <tr style=\"text-align: right;\">\n",
       "      <th></th>\n",
       "      <th>corr1</th>\n",
       "      <th>corr2</th>\n",
       "      <th>energ_1</th>\n",
       "      <th>energ_2</th>\n",
       "      <th>homom_1</th>\n",
       "      <th>homom_2</th>\n",
       "      <th>INVDIFM</th>\n",
       "      <th>INVDIFM.1</th>\n",
       "      <th>Dissimillarity</th>\n",
       "      <th>Dissimilarity2</th>\n",
       "      <th>inf1h_1</th>\n",
       "      <th>inf1h_2</th>\n",
       "      <th>inf2h_1</th>\n",
       "      <th>inf2h_2</th>\n",
       "      <th>maxpr_1</th>\n",
       "      <th>maxpr_2</th>\n",
       "      <th>out</th>\n",
       "    </tr>\n",
       "  </thead>\n",
       "  <tbody>\n",
       "    <tr>\n",
       "      <th>168</th>\n",
       "      <td>0.731535</td>\n",
       "      <td>0.851816</td>\n",
       "      <td>0.037372</td>\n",
       "      <td>0.039969</td>\n",
       "      <td>0.684731</td>\n",
       "      <td>0.696388</td>\n",
       "      <td>0.660874</td>\n",
       "      <td>0.672472</td>\n",
       "      <td>0.909474</td>\n",
       "      <td>0.919120</td>\n",
       "      <td>-0.283982</td>\n",
       "      <td>-0.322676</td>\n",
       "      <td>0.832334</td>\n",
       "      <td>0.859397</td>\n",
       "      <td>0.067560</td>\n",
       "      <td>0.090369</td>\n",
       "      <td>0</td>\n",
       "    </tr>\n",
       "    <tr>\n",
       "      <th>169</th>\n",
       "      <td>0.853367</td>\n",
       "      <td>0.789086</td>\n",
       "      <td>0.045367</td>\n",
       "      <td>0.038755</td>\n",
       "      <td>0.730555</td>\n",
       "      <td>0.688914</td>\n",
       "      <td>0.714521</td>\n",
       "      <td>0.664813</td>\n",
       "      <td>0.928622</td>\n",
       "      <td>0.913468</td>\n",
       "      <td>-0.372588</td>\n",
       "      <td>-0.298917</td>\n",
       "      <td>0.887187</td>\n",
       "      <td>0.843032</td>\n",
       "      <td>0.094486</td>\n",
       "      <td>0.074274</td>\n",
       "      <td>0</td>\n",
       "    </tr>\n",
       "    <tr>\n",
       "      <th>170</th>\n",
       "      <td>0.866492</td>\n",
       "      <td>0.789468</td>\n",
       "      <td>0.042811</td>\n",
       "      <td>0.039124</td>\n",
       "      <td>0.717351</td>\n",
       "      <td>0.697318</td>\n",
       "      <td>0.698832</td>\n",
       "      <td>0.673546</td>\n",
       "      <td>0.926218</td>\n",
       "      <td>0.915904</td>\n",
       "      <td>-0.367774</td>\n",
       "      <td>-0.309872</td>\n",
       "      <td>0.884835</td>\n",
       "      <td>0.850842</td>\n",
       "      <td>0.085978</td>\n",
       "      <td>0.070523</td>\n",
       "      <td>0</td>\n",
       "    </tr>\n",
       "    <tr>\n",
       "      <th>171</th>\n",
       "      <td>0.853390</td>\n",
       "      <td>0.667901</td>\n",
       "      <td>0.050044</td>\n",
       "      <td>0.036082</td>\n",
       "      <td>0.756099</td>\n",
       "      <td>0.666923</td>\n",
       "      <td>0.742068</td>\n",
       "      <td>0.637689</td>\n",
       "      <td>0.934729</td>\n",
       "      <td>0.899465</td>\n",
       "      <td>-0.403624</td>\n",
       "      <td>-0.252221</td>\n",
       "      <td>0.901676</td>\n",
       "      <td>0.805734</td>\n",
       "      <td>0.089060</td>\n",
       "      <td>0.068667</td>\n",
       "      <td>0</td>\n",
       "    </tr>\n",
       "    <tr>\n",
       "      <th>172</th>\n",
       "      <td>0.811611</td>\n",
       "      <td>0.785463</td>\n",
       "      <td>0.040511</td>\n",
       "      <td>0.038902</td>\n",
       "      <td>0.678512</td>\n",
       "      <td>0.680846</td>\n",
       "      <td>0.650874</td>\n",
       "      <td>0.654644</td>\n",
       "      <td>0.911305</td>\n",
       "      <td>0.911287</td>\n",
       "      <td>-0.305308</td>\n",
       "      <td>-0.295399</td>\n",
       "      <td>0.847720</td>\n",
       "      <td>0.840670</td>\n",
       "      <td>0.104167</td>\n",
       "      <td>0.077030</td>\n",
       "      <td>0</td>\n",
       "    </tr>\n",
       "  </tbody>\n",
       "</table>\n",
       "</div>"
      ],
      "text/plain": [
       "        corr1     corr2   energ_1   energ_2   homom_1   homom_2   INVDIFM  \\\n",
       "168  0.731535  0.851816  0.037372  0.039969  0.684731  0.696388  0.660874   \n",
       "169  0.853367  0.789086  0.045367  0.038755  0.730555  0.688914  0.714521   \n",
       "170  0.866492  0.789468  0.042811  0.039124  0.717351  0.697318  0.698832   \n",
       "171  0.853390  0.667901  0.050044  0.036082  0.756099  0.666923  0.742068   \n",
       "172  0.811611  0.785463  0.040511  0.038902  0.678512  0.680846  0.650874   \n",
       "\n",
       "     INVDIFM.1  Dissimillarity  Dissimilarity2   inf1h_1   inf1h_2   inf2h_1  \\\n",
       "168   0.672472        0.909474        0.919120 -0.283982 -0.322676  0.832334   \n",
       "169   0.664813        0.928622        0.913468 -0.372588 -0.298917  0.887187   \n",
       "170   0.673546        0.926218        0.915904 -0.367774 -0.309872  0.884835   \n",
       "171   0.637689        0.934729        0.899465 -0.403624 -0.252221  0.901676   \n",
       "172   0.654644        0.911305        0.911287 -0.305308 -0.295399  0.847720   \n",
       "\n",
       "      inf2h_2   maxpr_1   maxpr_2  out  \n",
       "168  0.859397  0.067560  0.090369    0  \n",
       "169  0.843032  0.094486  0.074274    0  \n",
       "170  0.850842  0.085978  0.070523    0  \n",
       "171  0.805734  0.089060  0.068667    0  \n",
       "172  0.840670  0.104167  0.077030    0  "
      ]
     },
     "execution_count": 4,
     "metadata": {},
     "output_type": "execute_result"
    }
   ],
   "source": [
    "\n",
    "data.tail()"
   ]
  },
  {
   "cell_type": "code",
   "execution_count": 5,
   "metadata": {},
   "outputs": [
    {
     "data": {
      "text/plain": [
       "0      1\n",
       "1      1\n",
       "2      1\n",
       "3      1\n",
       "4      1\n",
       "      ..\n",
       "168    0\n",
       "169    0\n",
       "170    0\n",
       "171    0\n",
       "172    0\n",
       "Name: out, Length: 173, dtype: int64"
      ]
     },
     "execution_count": 5,
     "metadata": {},
     "output_type": "execute_result"
    }
   ],
   "source": [
    "y=data.out\n",
    "y"
   ]
  },
  {
   "cell_type": "code",
   "execution_count": 6,
   "metadata": {},
   "outputs": [
    {
     "data": {
      "text/html": [
       "<div>\n",
       "<style scoped>\n",
       "    .dataframe tbody tr th:only-of-type {\n",
       "        vertical-align: middle;\n",
       "    }\n",
       "\n",
       "    .dataframe tbody tr th {\n",
       "        vertical-align: top;\n",
       "    }\n",
       "\n",
       "    .dataframe thead th {\n",
       "        text-align: right;\n",
       "    }\n",
       "</style>\n",
       "<table border=\"1\" class=\"dataframe\">\n",
       "  <thead>\n",
       "    <tr style=\"text-align: right;\">\n",
       "      <th></th>\n",
       "      <th>corr1</th>\n",
       "      <th>corr2</th>\n",
       "      <th>energ_1</th>\n",
       "      <th>energ_2</th>\n",
       "      <th>homom_1</th>\n",
       "      <th>homom_2</th>\n",
       "      <th>INVDIFM</th>\n",
       "      <th>INVDIFM.1</th>\n",
       "      <th>Dissimillarity</th>\n",
       "      <th>Dissimilarity2</th>\n",
       "      <th>inf1h_1</th>\n",
       "      <th>inf1h_2</th>\n",
       "      <th>inf2h_1</th>\n",
       "      <th>inf2h_2</th>\n",
       "      <th>maxpr_1</th>\n",
       "      <th>maxpr_2</th>\n",
       "    </tr>\n",
       "  </thead>\n",
       "  <tbody>\n",
       "    <tr>\n",
       "      <th>0</th>\n",
       "      <td>0.634842</td>\n",
       "      <td>0.736805</td>\n",
       "      <td>0.026456</td>\n",
       "      <td>0.030277</td>\n",
       "      <td>0.581066</td>\n",
       "      <td>0.605492</td>\n",
       "      <td>0.536517</td>\n",
       "      <td>0.563747</td>\n",
       "      <td>0.874403</td>\n",
       "      <td>0.887131</td>\n",
       "      <td>-0.153244</td>\n",
       "      <td>-0.213132</td>\n",
       "      <td>0.686239</td>\n",
       "      <td>0.766539</td>\n",
       "      <td>0.059672</td>\n",
       "      <td>0.073743</td>\n",
       "    </tr>\n",
       "    <tr>\n",
       "      <th>1</th>\n",
       "      <td>0.870562</td>\n",
       "      <td>0.743235</td>\n",
       "      <td>0.041829</td>\n",
       "      <td>0.035942</td>\n",
       "      <td>0.699726</td>\n",
       "      <td>0.670901</td>\n",
       "      <td>0.679983</td>\n",
       "      <td>0.643820</td>\n",
       "      <td>0.922180</td>\n",
       "      <td>0.905579</td>\n",
       "      <td>-0.346294</td>\n",
       "      <td>-0.262795</td>\n",
       "      <td>0.873347</td>\n",
       "      <td>0.815194</td>\n",
       "      <td>0.089841</td>\n",
       "      <td>0.068590</td>\n",
       "    </tr>\n",
       "    <tr>\n",
       "      <th>2</th>\n",
       "      <td>0.854259</td>\n",
       "      <td>0.746009</td>\n",
       "      <td>0.042710</td>\n",
       "      <td>0.036892</td>\n",
       "      <td>0.698037</td>\n",
       "      <td>0.656860</td>\n",
       "      <td>0.673758</td>\n",
       "      <td>0.622022</td>\n",
       "      <td>0.919183</td>\n",
       "      <td>0.899002</td>\n",
       "      <td>-0.347631</td>\n",
       "      <td>-0.266477</td>\n",
       "      <td>0.874205</td>\n",
       "      <td>0.818357</td>\n",
       "      <td>0.098214</td>\n",
       "      <td>0.095905</td>\n",
       "    </tr>\n",
       "    <tr>\n",
       "      <th>3</th>\n",
       "      <td>0.768671</td>\n",
       "      <td>0.714035</td>\n",
       "      <td>0.033398</td>\n",
       "      <td>0.034012</td>\n",
       "      <td>0.623370</td>\n",
       "      <td>0.621182</td>\n",
       "      <td>0.585807</td>\n",
       "      <td>0.583381</td>\n",
       "      <td>0.893479</td>\n",
       "      <td>0.889435</td>\n",
       "      <td>-0.250780</td>\n",
       "      <td>-0.230225</td>\n",
       "      <td>0.804330</td>\n",
       "      <td>0.784506</td>\n",
       "      <td>0.088676</td>\n",
       "      <td>0.102654</td>\n",
       "    </tr>\n",
       "    <tr>\n",
       "      <th>4</th>\n",
       "      <td>0.773713</td>\n",
       "      <td>0.697662</td>\n",
       "      <td>0.038847</td>\n",
       "      <td>0.032480</td>\n",
       "      <td>0.685969</td>\n",
       "      <td>0.644049</td>\n",
       "      <td>0.657823</td>\n",
       "      <td>0.608377</td>\n",
       "      <td>0.909847</td>\n",
       "      <td>0.893935</td>\n",
       "      <td>-0.283624</td>\n",
       "      <td>-0.223585</td>\n",
       "      <td>0.832138</td>\n",
       "      <td>0.777983</td>\n",
       "      <td>0.091525</td>\n",
       "      <td>0.073925</td>\n",
       "    </tr>\n",
       "    <tr>\n",
       "      <th>...</th>\n",
       "      <td>...</td>\n",
       "      <td>...</td>\n",
       "      <td>...</td>\n",
       "      <td>...</td>\n",
       "      <td>...</td>\n",
       "      <td>...</td>\n",
       "      <td>...</td>\n",
       "      <td>...</td>\n",
       "      <td>...</td>\n",
       "      <td>...</td>\n",
       "      <td>...</td>\n",
       "      <td>...</td>\n",
       "      <td>...</td>\n",
       "      <td>...</td>\n",
       "      <td>...</td>\n",
       "      <td>...</td>\n",
       "    </tr>\n",
       "    <tr>\n",
       "      <th>168</th>\n",
       "      <td>0.731535</td>\n",
       "      <td>0.851816</td>\n",
       "      <td>0.037372</td>\n",
       "      <td>0.039969</td>\n",
       "      <td>0.684731</td>\n",
       "      <td>0.696388</td>\n",
       "      <td>0.660874</td>\n",
       "      <td>0.672472</td>\n",
       "      <td>0.909474</td>\n",
       "      <td>0.919120</td>\n",
       "      <td>-0.283982</td>\n",
       "      <td>-0.322676</td>\n",
       "      <td>0.832334</td>\n",
       "      <td>0.859397</td>\n",
       "      <td>0.067560</td>\n",
       "      <td>0.090369</td>\n",
       "    </tr>\n",
       "    <tr>\n",
       "      <th>169</th>\n",
       "      <td>0.853367</td>\n",
       "      <td>0.789086</td>\n",
       "      <td>0.045367</td>\n",
       "      <td>0.038755</td>\n",
       "      <td>0.730555</td>\n",
       "      <td>0.688914</td>\n",
       "      <td>0.714521</td>\n",
       "      <td>0.664813</td>\n",
       "      <td>0.928622</td>\n",
       "      <td>0.913468</td>\n",
       "      <td>-0.372588</td>\n",
       "      <td>-0.298917</td>\n",
       "      <td>0.887187</td>\n",
       "      <td>0.843032</td>\n",
       "      <td>0.094486</td>\n",
       "      <td>0.074274</td>\n",
       "    </tr>\n",
       "    <tr>\n",
       "      <th>170</th>\n",
       "      <td>0.866492</td>\n",
       "      <td>0.789468</td>\n",
       "      <td>0.042811</td>\n",
       "      <td>0.039124</td>\n",
       "      <td>0.717351</td>\n",
       "      <td>0.697318</td>\n",
       "      <td>0.698832</td>\n",
       "      <td>0.673546</td>\n",
       "      <td>0.926218</td>\n",
       "      <td>0.915904</td>\n",
       "      <td>-0.367774</td>\n",
       "      <td>-0.309872</td>\n",
       "      <td>0.884835</td>\n",
       "      <td>0.850842</td>\n",
       "      <td>0.085978</td>\n",
       "      <td>0.070523</td>\n",
       "    </tr>\n",
       "    <tr>\n",
       "      <th>171</th>\n",
       "      <td>0.853390</td>\n",
       "      <td>0.667901</td>\n",
       "      <td>0.050044</td>\n",
       "      <td>0.036082</td>\n",
       "      <td>0.756099</td>\n",
       "      <td>0.666923</td>\n",
       "      <td>0.742068</td>\n",
       "      <td>0.637689</td>\n",
       "      <td>0.934729</td>\n",
       "      <td>0.899465</td>\n",
       "      <td>-0.403624</td>\n",
       "      <td>-0.252221</td>\n",
       "      <td>0.901676</td>\n",
       "      <td>0.805734</td>\n",
       "      <td>0.089060</td>\n",
       "      <td>0.068667</td>\n",
       "    </tr>\n",
       "    <tr>\n",
       "      <th>172</th>\n",
       "      <td>0.811611</td>\n",
       "      <td>0.785463</td>\n",
       "      <td>0.040511</td>\n",
       "      <td>0.038902</td>\n",
       "      <td>0.678512</td>\n",
       "      <td>0.680846</td>\n",
       "      <td>0.650874</td>\n",
       "      <td>0.654644</td>\n",
       "      <td>0.911305</td>\n",
       "      <td>0.911287</td>\n",
       "      <td>-0.305308</td>\n",
       "      <td>-0.295399</td>\n",
       "      <td>0.847720</td>\n",
       "      <td>0.840670</td>\n",
       "      <td>0.104167</td>\n",
       "      <td>0.077030</td>\n",
       "    </tr>\n",
       "  </tbody>\n",
       "</table>\n",
       "<p>173 rows × 16 columns</p>\n",
       "</div>"
      ],
      "text/plain": [
       "        corr1     corr2   energ_1   energ_2   homom_1   homom_2   INVDIFM  \\\n",
       "0    0.634842  0.736805  0.026456  0.030277  0.581066  0.605492  0.536517   \n",
       "1    0.870562  0.743235  0.041829  0.035942  0.699726  0.670901  0.679983   \n",
       "2    0.854259  0.746009  0.042710  0.036892  0.698037  0.656860  0.673758   \n",
       "3    0.768671  0.714035  0.033398  0.034012  0.623370  0.621182  0.585807   \n",
       "4    0.773713  0.697662  0.038847  0.032480  0.685969  0.644049  0.657823   \n",
       "..        ...       ...       ...       ...       ...       ...       ...   \n",
       "168  0.731535  0.851816  0.037372  0.039969  0.684731  0.696388  0.660874   \n",
       "169  0.853367  0.789086  0.045367  0.038755  0.730555  0.688914  0.714521   \n",
       "170  0.866492  0.789468  0.042811  0.039124  0.717351  0.697318  0.698832   \n",
       "171  0.853390  0.667901  0.050044  0.036082  0.756099  0.666923  0.742068   \n",
       "172  0.811611  0.785463  0.040511  0.038902  0.678512  0.680846  0.650874   \n",
       "\n",
       "     INVDIFM.1  Dissimillarity  Dissimilarity2   inf1h_1   inf1h_2   inf2h_1  \\\n",
       "0     0.563747        0.874403        0.887131 -0.153244 -0.213132  0.686239   \n",
       "1     0.643820        0.922180        0.905579 -0.346294 -0.262795  0.873347   \n",
       "2     0.622022        0.919183        0.899002 -0.347631 -0.266477  0.874205   \n",
       "3     0.583381        0.893479        0.889435 -0.250780 -0.230225  0.804330   \n",
       "4     0.608377        0.909847        0.893935 -0.283624 -0.223585  0.832138   \n",
       "..         ...             ...             ...       ...       ...       ...   \n",
       "168   0.672472        0.909474        0.919120 -0.283982 -0.322676  0.832334   \n",
       "169   0.664813        0.928622        0.913468 -0.372588 -0.298917  0.887187   \n",
       "170   0.673546        0.926218        0.915904 -0.367774 -0.309872  0.884835   \n",
       "171   0.637689        0.934729        0.899465 -0.403624 -0.252221  0.901676   \n",
       "172   0.654644        0.911305        0.911287 -0.305308 -0.295399  0.847720   \n",
       "\n",
       "      inf2h_2   maxpr_1   maxpr_2  \n",
       "0    0.766539  0.059672  0.073743  \n",
       "1    0.815194  0.089841  0.068590  \n",
       "2    0.818357  0.098214  0.095905  \n",
       "3    0.784506  0.088676  0.102654  \n",
       "4    0.777983  0.091525  0.073925  \n",
       "..        ...       ...       ...  \n",
       "168  0.859397  0.067560  0.090369  \n",
       "169  0.843032  0.094486  0.074274  \n",
       "170  0.850842  0.085978  0.070523  \n",
       "171  0.805734  0.089060  0.068667  \n",
       "172  0.840670  0.104167  0.077030  \n",
       "\n",
       "[173 rows x 16 columns]"
      ]
     },
     "execution_count": 6,
     "metadata": {},
     "output_type": "execute_result"
    }
   ],
   "source": [
    "data.drop(\"out\", axis=1, inplace=True)\n",
    "x=data\n",
    "x"
   ]
  },
  {
   "cell_type": "markdown",
   "metadata": {},
   "source": [
    "# Data visualization"
   ]
  },
  {
   "cell_type": "code",
   "execution_count": 7,
   "metadata": {},
   "outputs": [
    {
     "name": "stdout",
     "output_type": "stream",
     "text": [
      "Number of Normal:  94\n",
      "Number of Abnormal:  79\n"
     ]
    },
    {
     "name": "stderr",
     "output_type": "stream",
     "text": [
      "C:\\Users\\Honda\\anaconda3\\lib\\site-packages\\seaborn\\_decorators.py:36: FutureWarning: Pass the following variable as a keyword arg: x. From version 0.12, the only valid positional argument will be `data`, and passing other arguments without an explicit keyword will result in an error or misinterpretation.\n",
      "  warnings.warn(\n"
     ]
    },
    {
     "data": {
      "image/png": "[encoded data removed]",
      "text/plain": [
       "<Figure size 432x288 with 1 Axes>"
      ]
     },
     "metadata": {
      "needs_background": "light"
     },
     "output_type": "display_data"
    }
   ],
   "source": [
    "   \n",
    "\n",
    "y_tr_countplot = sns.countplot(y, label=\"Count\") #show the count of observations for each category\n",
    "B, M = y.value_counts() ##counts number of each category pandas\n",
    "print('Number of Normal: ',B)\n",
    "print('Number of Abnormal: ',M)"
   ]
  },
  {
   "cell_type": "markdown",
   "metadata": {},
   "source": [
    "# Data splitting"
   ]
  },
  {
   "cell_type": "markdown",
   "metadata": {},
   "source": [
    "split data as 70% of data for trainning and 30% for testing, assigning any value for random state means that the data splitted for same split each time to run the code"
   ]
  },
  {
   "cell_type": "code",
   "execution_count": 8,
   "metadata": {},
   "outputs": [],
   "source": [
    "X_train= pd.read_excel (r'F:\\gradiation project\\data2\\trainData.xlsx')\n",
    "y_train=pd.read_excel (r'F:\\gradiation project\\data2\\trainClass.xlsx')\n",
    "X_test=pd.read_excel (r'F:\\gradiation project\\data2\\testData.xlsx')\n",
    "y_test=pd.read_excel (r'F:\\gradiation project\\data2\\testClass.xlsx')"
   ]
  },
  {
   "cell_type": "code",
   "execution_count": 9,
   "metadata": {},
   "outputs": [],
   "source": [
    "y_test=y_test.values.ravel()\n",
    "y_train=y_train.values.ravel()\n"
   ]
  },
  {
   "cell_type": "markdown",
   "metadata": {},
   "source": [
    "# Gradient Boost classifier"
   ]
  },
  {
   "cell_type": "code",
   "execution_count": 17,
   "metadata": {},
   "outputs": [
    {
     "data": {
      "text/plain": [
       "GradientBoostingClassifier()"
      ]
     },
     "execution_count": 17,
     "metadata": {},
     "output_type": "execute_result"
    }
   ],
   "source": [
    "from sklearn.ensemble import GradientBoostingClassifier\n",
    "gbc=GradientBoostingClassifier()\n",
    "gbc.fit(X_train,y_train)"
   ]
  },
  {
   "cell_type": "code",
   "execution_count": 18,
   "metadata": {},
   "outputs": [
    {
     "name": "stdout",
     "output_type": "stream",
     "text": [
      "test accuracy is 81.63265306122449\n"
     ]
    }
   ],
   "source": [
    "\n",
    "print(\"test accuracy is\",gbc.score(X_test,y_test)*100)"
   ]
  },
  {
   "cell_type": "markdown",
   "metadata": {},
   "source": [
    "# Decision Tree classifier"
   ]
  },
  {
   "cell_type": "code",
   "execution_count": 21,
   "metadata": {},
   "outputs": [
    {
     "data": {
      "text/plain": [
       "DecisionTreeClassifier(random_state=123)"
      ]
     },
     "execution_count": 21,
     "metadata": {},
     "output_type": "execute_result"
    }
   ],
   "source": [
    "from sklearn.tree import DecisionTreeClassifier\n",
    "dtree = DecisionTreeClassifier( random_state=123)\n",
    "\n",
    "dtree.fit(X_train,y_train)\n"
   ]
  },
  {
   "cell_type": "code",
   "execution_count": 23,
   "metadata": {},
   "outputs": [
    {
     "name": "stdout",
     "output_type": "stream",
     "text": [
      "test acuuracy is 67.3469387755102\n"
     ]
    }
   ],
   "source": [
    "print(\"test acuuracy is\",accuracy_score(y_test,y_pred)*100)"
   ]
  },
  {
   "cell_type": "markdown",
   "metadata": {},
   "source": [
    "# Random forrest classifier"
   ]
  },
  {
   "cell_type": "code",
   "execution_count": 28,
   "metadata": {},
   "outputs": [
    {
     "name": "stdout",
     "output_type": "stream",
     "text": [
      "test accuracy = 87.75510204081633\n"
     ]
    }
   ],
   "source": [
    "\n",
    "from sklearn.ensemble import RandomForestClassifier\n",
    "rfc=RandomForestClassifier(random_state=139) #139\n",
    "rfc.fit(X_train,y_train)\n",
    "y_pred=rfc.predict(X_test)\n",
    "print(\"test accuracy =\",accuracy_score(y_test,y_pred)*100)"
   ]
  },
  {
   "cell_type": "code",
   "execution_count": 19,
   "metadata": {},
   "outputs": [
    {
     "name": "stdout",
     "output_type": "stream",
     "text": [
      "Confusion matrix, without normalization\n",
      "[[24  3]\n",
      " [ 3 19]]\n",
      "Normalized confusion matrix\n",
      "[[0.88888889 0.11111111]\n",
      " [0.13636364 0.86363636]]\n"
     ]
    },
    {
     "data": {
      "image/png": "[encoded data removed]",
      "text/plain": [
       "<Figure size 432x288 with 2 Axes>"
      ]
     },
     "metadata": {
      "needs_background": "light"
     },
     "output_type": "display_data"
    },
    {
     "data": {
      "image/png": "[encoded data removed]",
      "text/plain": [
       "<Figure size 432x288 with 2 Axes>"
      ]
     },
     "metadata": {
      "needs_background": "light"
     },
     "output_type": "display_data"
    }
   ],
   "source": [
    "y_pred=rfc.predict(X_test)\n",
    "from sklearn.metrics import plot_confusion_matrix\n",
    "class_names=[\"0\",\"1\"]\n",
    "titles_options = [(\"Confusion matrix, without normalization\", None),\n",
    "                  (\"Normalized confusion matrix\", 'true')]\n",
    "for title, normalize in titles_options:\n",
    "    disp = plot_confusion_matrix(rfc, X_test, y_test,\n",
    "                                 display_labels=class_names,\n",
    "                                 cmap=plt.cm.Blues,\n",
    "                                 normalize=normalize)\n",
    "    disp.ax_.set_title(title)\n",
    "\n",
    "    print(title)\n",
    "    print(disp.confusion_matrix)\n",
    "\n",
    "plt.show()\n"
   ]
  },
  {
   "cell_type": "code",
   "execution_count": 20,
   "metadata": {},
   "outputs": [
    {
     "name": "stdout",
     "output_type": "stream",
     "text": [
      "test accuracy = 87.75510204081633\n"
     ]
    }
   ],
   "source": [
    "print(\"test accuracy =\",accuracy_score(y_test,y_pred)*100)"
   ]
  },
  {
   "cell_type": "markdown",
   "metadata": {},
   "source": [
    "# K-neighbours classifier"
   ]
  },
  {
   "cell_type": "code",
   "execution_count": 128,
   "metadata": {},
   "outputs": [
    {
     "name": "stdout",
     "output_type": "stream",
     "text": [
      "KNN test accuracy= 85.71428571428571\n"
     ]
    }
   ],
   "source": [
    "from sklearn.neighbors import KNeighborsClassifier\n",
    "from sklearn.metrics import accuracy_score\n",
    "knn = KNeighborsClassifier(n_neighbors=4)\n",
    "knn.fit(X_train,y_train)\n",
    "\n",
    "print(\"KNN test accuracy=\",accuracy_score(y_test,knn.predict(X_test))*100)"
   ]
  },
  {
   "cell_type": "code",
   "execution_count": 29,
   "metadata": {},
   "outputs": [
    {
     "name": "stdout",
     "output_type": "stream",
     "text": [
      "Confusion matrix, without normalization\n",
      "[[25  2]\n",
      " [ 5 17]]\n",
      "Normalized confusion matrix\n",
      "[[0.92592593 0.07407407]\n",
      " [0.22727273 0.77272727]]\n"
     ]
    },
    {
     "data": {
      "image/png": "[encoded data removed]",
      "text/plain": [
       "<Figure size 432x288 with 2 Axes>"
      ]
     },
     "metadata": {
      "needs_background": "light"
     },
     "output_type": "display_data"
    },
    {
     "data": {
      "image/png": "[encoded data removed]",
      "text/plain": [
       "<Figure size 432x288 with 2 Axes>"
      ]
     },
     "metadata": {
      "needs_background": "light"
     },
     "output_type": "display_data"
    }
   ],
   "source": [
    "from sklearn.metrics import plot_confusion_matrix\n",
    "class_names=[\"0\",\"1\"]\n",
    "titles_options = [(\"Confusion matrix, without normalization\", None),\n",
    "                  (\"Normalized confusion matrix\", 'true')]\n",
    "for title, normalize in titles_options:\n",
    "    disp = plot_confusion_matrix(knn, X_test, y_test,\n",
    "                                 display_labels=class_names,\n",
    "                                 cmap=plt.cm.Blues,\n",
    "                                 normalize=normalize)\n",
    "    disp.ax_.set_title(title)\n",
    "\n",
    "    print(title)\n",
    "    print(disp.confusion_matrix)\n",
    "\n",
    "plt.show()"
   ]
  },
  {
   "cell_type": "markdown",
   "metadata": {},
   "source": [
    "# LGBM Classifier"
   ]
  },
  {
   "cell_type": "code",
   "execution_count": 12,
   "metadata": {},
   "outputs": [
    {
     "name": "stdout",
     "output_type": "stream",
     "text": [
      "LGBM test acuuracy=   % 90\n"
     ]
    }
   ],
   "source": [
    "from lightgbm import LGBMClassifier\n",
    "lgb = LGBMClassifier()\n",
    "lgb.fit(X_train,y_train)\n",
    "\n",
    "print(\"LGBM test acuuracy=   %\",math.ceil(accuracy_score(y_test,lgb.predict(X_test))*100))"
   ]
  },
  {
   "cell_type": "code",
   "execution_count": 27,
   "metadata": {},
   "outputs": [
    {
     "name": "stdout",
     "output_type": "stream",
     "text": [
      "Confusion matrix, without normalization\n",
      "[[24  3]\n",
      " [ 2 20]]\n",
      "Normalized confusion matrix\n",
      "[[0.88888889 0.11111111]\n",
      " [0.09090909 0.90909091]]\n"
     ]
    },
    {
     "data": {
      "image/png": "[encoded data removed]",
      "text/plain": [
       "<Figure size 432x288 with 2 Axes>"
      ]
     },
     "metadata": {
      "needs_background": "light"
     },
     "output_type": "display_data"
    },
    {
     "data": {
      "image/png": "[encoded data removed]",
      "text/plain": [
       "<Figure size 432x288 with 2 Axes>"
      ]
     },
     "metadata": {
      "needs_background": "light"
     },
     "output_type": "display_data"
    }
   ],
   "source": [
    "from sklearn.metrics import plot_confusion_matrix\n",
    "class_names=[\"0\",\"1\"]\n",
    "titles_options = [(\"Confusion matrix, without normalization\", None),\n",
    "                  (\"Normalized confusion matrix\", 'true')]\n",
    "for title, normalize in titles_options:\n",
    "    disp = plot_confusion_matrix(lgb, X_test, y_test,\n",
    "                                 display_labels=class_names,\n",
    "                                 cmap=plt.cm.Blues,\n",
    "                                 normalize=normalize)\n",
    "    disp.ax_.set_title(title)\n",
    "\n",
    "    print(title)\n",
    "    print(disp.confusion_matrix)\n",
    "\n",
    "plt.show()"
   ]
  }
 ],
 "metadata": {
  "kernelspec": {
   "display_name": "Python 3",
   "language": "python",
   "name": "python3"
  },
  "language_info": {
   "codemirror_mode": {
    "name": "ipython",
    "version": 3
   },
   "file_extension": ".py",
   "mimetype": "text/x-python",
   "name": "python",
   "nbconvert_exporter": "python",
   "pygments_lexer": "ipython3",
   "version": "3.8.3"
  }
 },
 "nbformat": 4,
 "nbformat_minor": 4
}
